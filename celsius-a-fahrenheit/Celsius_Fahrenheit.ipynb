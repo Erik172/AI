{
 "cells": [
  {
   "cell_type": "code",
   "execution_count": 1,
   "metadata": {},
   "outputs": [],
   "source": [
    "import tensorflow as tf\n",
    "import numpy as np\n",
    "import plotly.express as px"
   ]
  },
  {
   "cell_type": "code",
   "execution_count": 2,
   "metadata": {},
   "outputs": [],
   "source": [
    "# Datos de entrenamiento\n",
    "celcius = np.array([-40, -10,  0,  8, 15, 22,  38],  dtype=float)\n",
    "faranheit = np.array([-40,  14, 32, 46, 59, 72, 100], dtype=float)"
   ]
  },
  {
   "cell_type": "code",
   "execution_count": 3,
   "metadata": {},
   "outputs": [],
   "source": [
    "capa = tf.keras.layers.Dense(units=1, input_shape=[1]) # Capa de entrada\n",
    "modelo = tf.keras.Sequential([capa]) # Modelo de red neuronal"
   ]
  },
  {
   "cell_type": "code",
   "execution_count": 4,
   "metadata": {},
   "outputs": [],
   "source": [
    "modelo.compile(\n",
    "    optimizer=tf.keras.optimizers.Adam(0.1),\n",
    "    loss='mean_squared_error', # Error cuadratico medio\n",
    ")"
   ]
  },
  {
   "cell_type": "code",
   "execution_count": 5,
   "metadata": {},
   "outputs": [
    {
     "name": "stdout",
     "output_type": "stream",
     "text": [
      "Comienza entrenamiento\n",
      "Entrenamiento terminado\n"
     ]
    }
   ],
   "source": [
    "print(\"Comienza entrenamiento\")\n",
    "historial = modelo.fit(celcius, faranheit, epochs=500, verbose=False) # Entrenamiento\n",
    "print(\"Entrenamiento terminado\")"
   ]
  },
  {
   "cell_type": "code",
   "execution_count": 6,
   "metadata": {},
   "outputs": [
    {
     "data": {
      "image/png": "[encoded data removed]",
      "text/plain": [
       "<Figure size 640x480 with 1 Axes>"
      ]
     },
     "metadata": {},
     "output_type": "display_data"
    }
   ],
   "source": [
    "import matplotlib.pyplot as plt\n",
    "plt.xlabel('# Epoca') # Etiqueta eje x\n",
    "plt.ylabel('Magnitud de perdida') # Etiqueta eje y\n",
    "plt.plot(historial.history['loss']) # Grafica de perdida\n",
    "plt.show()"
   ]
  },
  {
   "cell_type": "code",
   "execution_count": 9,
   "metadata": {},
   "outputs": [
    {
     "data": {
      "application/vnd.plotly.v1+json": {
       "config": {
        "plotlyServerURL": "https://plot.ly"
       },
       "data": [
        {
         "hovertemplate": "# Epoca=%{x}<br>Magnitud de perdida=%{y}<extra></extra>",
         "legendgroup": "",
         "line": {
          "color": "#636efa",
          "dash": "solid"
         },
         "marker": {
          "symbol": "circle"
         },
         "mode": "lines",
         "name": "",
         "orientation": "v",
         "showlegend": false,
         "type": "scatter",
         "x": [
          0,
          1,
          2,
          3,
          4,
          5,
          6,
          7,
          8,
          9,
          10,
          11,
          12,
          13,
          14,
          15,
          16,
          17,
          18,
          19,
          20,
          21,
          22,
          23,
          24,
          25,
          26,
          27,
          28,
          29,
          30,
          31,
          32,
          33,
          34,
          35,
          36,
          37,
          38,
          39,
          40,
          41,
          42,
          43,
          44,
          45,
          46,
          47,
          48,
          49,
          50,
          51,
          52,
          53,
          54,
          55,
          56,
          57,
          58,
          59,
          60,
          61,
          62,
          63,
          64,
          65,
          66,
          67,
          68,
          69,
          70,
          71,
          72,
          73,
          74,
          75,
          76,
          77,
          78,
          79,
          80,
          81,
          82,
          83,
          84,
          85,
          86,
          87,
          88,
          89,
          90,
          91,
          92,
          93,
          94,
          95,
          96,
          97,
          98,
          99,
          100,
          101,
          102,
          103,
          104,
          105,
          106,
          107,
          108,
          109,
          110,
          111,
          112,
          113,
          114,
          115,
          116,
          117,
          118,
          119,
          120,
          121,
          122,
          123,
          124,
          125,
          126,
          127,
          128,
          129,
          130,
          131,
          132,
          133,
          134,
          135,
          136,
          137,
          138,
          139,
          140,
          141,
          142,
          143,
          144,
          145,
          146,
          147,
          148,
          149,
          150,
          151,
          152,
          153,
          154,
          155,
          156,
          157,
          158,
          159,
          160,
          161,
          162,
          163,
          164,
          165,
          166,
          167,
          168,
          169,
          170,
          171,
          172,
          173,
          174,
          175,
          176,
          177,
          178,
          179,
          180,
          181,
          182,
          183,
          184,
          185,
          186,
          187,
          188,
          189,
          190,
          191,
          192,
          193,
          194,
          195,
          196,
          197,
          198,
          199,
          200,
          201,
          202,
          203,
          204,
          205,
          206,
          207,
          208,
          209,
          210,
          211,
          212,
          213,
          214,
          215,
          216,
          217,
          218,
          219,
          220,
          221,
          222,
          223,
          224,
          225,
          226,
          227,
          228,
          229,
          230,
          231,
          232,
          233,
          234,
          235,
          236,
          237,
          238,
          239,
          240,
          241,
          242,
          243,
          244,
          245,
          246,
          247,
          248,
          249,
          250,
          251,
          252,
          253,
          254,
          255,
          256,
          257,
          258,
          259,
          260,
          261,
          262,
          263,
          264,
          265,
          266,
          267,
          268,
          269,
          270,
          271,
          272,
          273,
          274,
          275,
          276,
          277,
          278,
          279,
          280,
          281,
          282,
          283,
          284,
          285,
          286,
          287,
          288,
          289,
          290,
          291,
          292,
          293,
          294,
          295,
          296,
          297,
          298,
          299,
          300,
          301,
          302,
          303,
          304,
          305,
          306,
          307,
          308,
          309,
          310,
          311,
          312,
          313,
          314,
          315,
          316,
          317,
          318,
          319,
          320,
          321,
          322,
          323,
          324,
          325,
          326,
          327,
          328,
          329,
          330,
          331,
          332,
          333,
          334,
          335,
          336,
          337,
          338,
          339,
          340,
          341,
          342,
          343,
          344,
          345,
          346,
          347,
          348,
          349,
          350,
          351,
          352,
          353,
          354,
          355,
          356,
          357,
          358,
          359,
          360,
          361,
          362,
          363,
          364,
          365,
          366,
          367,
          368,
          369,
          370,
          371,
          372,
          373,
          374,
          375,
          376,
          377,
          378,
          379,
          380,
          381,
          382,
          383,
          384,
          385,
          386,
          387,
          388,
          389,
          390,
          391,
          392,
          393,
          394,
          395,
          396,
          397,
          398,
          399,
          400,
          401,
          402,
          403,
          404,
          405,
          406,
          407,
          408,
          409,
          410,
          411,
          412,
          413,
          414,
          415,
          416,
          417,
          418,
          419,
          420,
          421,
          422,
          423,
          424,
          425,
          426,
          427,
          428,
          429,
          430,
          431,
          432,
          433,
          434,
          435,
          436,
          437,
          438,
          439,
          440,
          441,
          442,
          443,
          444,
          445,
          446,
          447,
          448,
          449,
          450,
          451,
          452,
          453,
          454,
          455,
          456,
          457,
          458,
          459,
          460,
          461,
          462,
          463,
          464,
          465,
          466,
          467,
          468,
          469,
          470,
          471,
          472,
          473,
          474,
          475,
          476,
          477,
          478,
          479,
          480,
          481,
          482,
          483,
          484,
          485,
          486,
          487,
          488,
          489,
          490,
          491,
          492,
          493,
          494,
          495,
          496,
          497,
          498,
          499
         ],
         "xaxis": "x",
         "y": [
          5937.8251953125,
          5601.47607421875,
          5276.85595703125,
          4964.15283203125,
          4663.53955078125,
          4375.15478515625,
          4099.1162109375,
          3835.512939453125,
          3584.402099609375,
          3345.80859375,
          3119.72314453125,
          2906.102783203125,
          2704.867431640625,
          2515.899658203125,
          2339.04345703125,
          2174.106201171875,
          2020.8565673828125,
          1879.0244140625,
          1748.3038330078125,
          1628.3529052734375,
          1518.795166015625,
          1419.222412109375,
          1329.1966552734375,
          1248.2537841796875,
          1175.9058837890625,
          1111.6453857421875,
          1054.949951171875,
          1005.2850341796875,
          962.1100463867188,
          924.8821411132812,
          893.0608520507812,
          866.11328125,
          843.5184326171875,
          824.7709350585938,
          809.3856201171875,
          796.9013671875,
          786.8832397460938,
          778.9262084960938,
          772.6566772460938,
          767.7340698242188,
          763.8516845703125,
          760.7374267578125,
          758.1530151367188,
          755.8936157226562,
          753.7868041992188,
          751.6903076171875,
          749.49072265625,
          747.10107421875,
          744.4580078125,
          741.5197143554688,
          738.2630004882812,
          734.6804809570312,
          730.7783203125,
          726.5733032226562,
          722.0907592773438,
          717.3621826171875,
          712.4229736328125,
          707.3114013671875,
          702.0662841796875,
          696.7257080078125,
          691.3263549804688,
          685.90234375,
          680.4846801757812,
          675.1000366210938,
          669.7720336914062,
          664.5196533203125,
          659.3580932617188,
          654.2982788085938,
          649.3475952148438,
          644.5100708007812,
          639.78662109375,
          635.17578125,
          630.6734008789062,
          626.2741088867188,
          621.9707641601562,
          617.7554321289062,
          613.6195068359375,
          609.5540161132812,
          605.5504760742188,
          601.6002807617188,
          597.6952514648438,
          593.828125,
          589.9923095703125,
          586.1819458007812,
          582.3919067382812,
          578.6184692382812,
          574.8580322265625,
          571.1085205078125,
          567.3681640625,
          563.6356811523438,
          559.9109497070312,
          556.1939086914062,
          552.48486328125,
          548.7847900390625,
          545.0946044921875,
          541.4151611328125,
          537.7479858398438,
          534.0939331054688,
          530.4544677734375,
          526.8303833007812,
          523.222900390625,
          519.6327514648438,
          516.060546875,
          512.5068359375,
          508.97216796875,
          505.456787109375,
          501.960693359375,
          498.4841003417969,
          495.0266418457031,
          491.58837890625,
          488.1690979003906,
          484.76861572265625,
          481.3863830566406,
          478.0222473144531,
          474.67608642578125,
          471.3473815917969,
          468.0358581542969,
          464.7415466308594,
          461.4638671875,
          458.2027893066406,
          454.9582824707031,
          451.73004150390625,
          448.51806640625,
          445.322265625,
          442.14263916015625,
          438.9791564941406,
          435.83172607421875,
          432.70062255859375,
          429.58563232421875,
          426.48675537109375,
          423.4042053222656,
          420.3377990722656,
          417.2876281738281,
          414.25384521484375,
          411.23626708984375,
          408.23492431640625,
          405.25,
          402.28118896484375,
          399.3287658691406,
          396.3923645019531,
          393.4723205566406,
          390.568359375,
          387.6804504394531,
          384.80865478515625,
          381.9528503417969,
          379.11297607421875,
          376.2890319824219,
          373.48095703125,
          370.6886901855469,
          367.91217041015625,
          365.1513671875,
          362.4062805175781,
          359.6767578125,
          356.96282958984375,
          354.2644958496094,
          351.58160400390625,
          348.91412353515625,
          346.2620544433594,
          343.62542724609375,
          341.0041198730469,
          338.3979187011719,
          335.80712890625,
          333.2314453125,
          330.6708984375,
          328.12554931640625,
          325.59527587890625,
          323.0799255371094,
          320.57958984375,
          318.0942077636719,
          315.62359619140625,
          313.16790771484375,
          310.7269592285156,
          308.30078125,
          305.88922119140625,
          303.49237060546875,
          301.1100769042969,
          298.7423400878906,
          296.3890686035156,
          294.0501403808594,
          291.7257080078125,
          289.4155578613281,
          287.11968994140625,
          284.8379821777344,
          282.570556640625,
          280.3172607421875,
          278.0779724121094,
          275.8526916503906,
          273.6415100097656,
          271.4441833496094,
          269.2606201171875,
          267.0909729003906,
          264.93505859375,
          262.7928771972656,
          260.6643371582031,
          258.54937744140625,
          256.447998046875,
          254.36009216308594,
          252.28561401367188,
          250.22462463378906,
          248.1768798828125,
          246.14247131347656,
          244.1212158203125,
          242.11325073242188,
          240.11825561523438,
          238.13650512695312,
          236.16761779785156,
          234.21177673339844,
          232.26878356933594,
          230.3386993408203,
          228.4214324951172,
          226.51681518554688,
          224.6249542236328,
          222.74571228027344,
          220.87904357910156,
          219.0249481201172,
          217.18324279785156,
          215.35400390625,
          213.537109375,
          211.73252868652344,
          209.9402313232422,
          208.16014099121094,
          206.39212036132812,
          204.63626098632812,
          202.8923797607422,
          201.16050720214844,
          199.44056701660156,
          197.73240661621094,
          196.0361328125,
          194.3516082763672,
          192.67884826660156,
          191.01760864257812,
          189.36805725097656,
          187.72996520996094,
          186.10340881347656,
          184.48825073242188,
          182.88449096679688,
          181.2920684814453,
          179.71092224121094,
          178.14100646972656,
          176.5821075439453,
          175.034423828125,
          173.4976806640625,
          171.9720001220703,
          170.457275390625,
          168.9534912109375,
          167.46047973632812,
          165.9782257080078,
          164.50669860839844,
          163.04586791992188,
          161.5956268310547,
          160.1558837890625,
          158.7267303466797,
          157.3080291748047,
          155.8997344970703,
          154.5017852783203,
          153.11404418945312,
          151.7366485595703,
          150.36936950683594,
          149.01220703125,
          147.6651153564453,
          146.3280487060547,
          145.00100708007812,
          143.68382263183594,
          142.37657165527344,
          141.07907104492188,
          139.79135131835938,
          138.5133514404297,
          137.2449951171875,
          135.98622131347656,
          134.73703002929688,
          133.49728393554688,
          132.2669677734375,
          131.04611206054688,
          129.83457946777344,
          128.63232421875,
          127.4393081665039,
          126.25547790527344,
          125.08076477050781,
          123.91514587402344,
          122.75849151611328,
          121.61089324951172,
          120.47220611572266,
          119.3424072265625,
          118.22137451171875,
          117.10913848876953,
          116.00563049316406,
          114.9107894897461,
          113.8246078491211,
          112.74696350097656,
          111.67784118652344,
          110.61722564697266,
          109.56501007080078,
          108.52113342285156,
          107.48564910888672,
          106.45841979980469,
          105.43936920166016,
          104.42854309082031,
          103.42581939697266,
          102.43120574951172,
          101.44459533691406,
          100.4659652709961,
          99.49523162841797,
          98.53242492675781,
          97.57744598388672,
          96.63028717041016,
          95.69081115722656,
          94.75908660888672,
          93.83490753173828,
          92.9184341430664,
          92.00943756103516,
          91.10795593261719,
          90.21393585205078,
          89.32733917236328,
          88.4480972290039,
          87.57616424560547,
          86.71148681640625,
          85.85404205322266,
          85.0037841796875,
          84.16068267822266,
          83.32457733154297,
          82.49554443359375,
          81.67354583740234,
          80.85846710205078,
          80.05030059814453,
          79.24901580810547,
          78.45450592041016,
          77.66678619384766,
          76.88574981689453,
          76.11139678955078,
          75.34370422363281,
          74.58258819580078,
          73.8280029296875,
          73.07997131347656,
          72.33837127685547,
          71.60318756103516,
          70.8743896484375,
          70.15191650390625,
          69.43570709228516,
          68.72578430175781,
          68.02201080322266,
          67.32442474365234,
          66.63298034667969,
          65.94752502441406,
          65.26818084716797,
          64.59483337402344,
          63.9273681640625,
          63.265907287597656,
          62.610233306884766,
          61.96043014526367,
          61.31639862060547,
          60.67810821533203,
          60.0455207824707,
          59.41860580444336,
          58.79730224609375,
          58.18160629272461,
          57.57145309448242,
          56.9667854309082,
          56.36756134033203,
          55.77378463745117,
          55.185447692871094,
          54.60240936279297,
          54.02467727661133,
          53.45224380493164,
          52.88503646850586,
          52.32303237915039,
          51.76617431640625,
          51.21442413330078,
          50.667781829833984,
          50.12617111206055,
          49.58955764770508,
          49.05794906616211,
          48.53125762939453,
          48.00945281982422,
          47.49251174926758,
          46.98037338256836,
          46.47307586669922,
          45.97047805786133,
          45.47262191772461,
          44.97942352294922,
          44.49087142944336,
          44.00697708129883,
          43.52761459350586,
          43.05277633666992,
          42.58246612548828,
          42.11659622192383,
          41.65521240234375,
          41.19820022583008,
          40.74554443359375,
          40.297210693359375,
          39.85318374633789,
          39.41341018676758,
          38.97788619995117,
          38.54657745361328,
          38.11940383911133,
          37.69640350341797,
          37.2774658203125,
          36.86259841918945,
          36.45178985595703,
          36.04499435424805,
          35.64212417602539,
          35.24322509765625,
          34.84823989868164,
          34.45710372924805,
          34.069828033447266,
          33.68635940551758,
          33.306697845458984,
          32.9307746887207,
          32.558563232421875,
          32.190067291259766,
          31.82522201538086,
          31.46401023864746,
          31.10640525817871,
          30.75235366821289,
          30.401851654052734,
          30.054874420166016,
          29.711383819580078,
          29.371320724487305,
          29.03470802307129,
          28.70149040222168,
          28.37164878845215,
          28.04513168334961,
          27.7219181060791,
          27.40199089050293,
          27.08534812927246,
          26.771923065185547,
          26.461669921875,
          26.154626846313477,
          25.85074806213379,
          25.549957275390625,
          25.252267837524414,
          24.957645416259766,
          24.66607666015625,
          24.377519607543945,
          24.091960906982422,
          23.809343338012695,
          23.529682159423828,
          23.252918243408203,
          22.979021072387695,
          22.7080078125,
          22.43984603881836,
          22.174482345581055,
          21.91190528869629,
          21.652070999145508,
          21.39499282836914,
          21.140628814697266,
          20.888946533203125,
          20.63991928100586,
          20.393539428710938,
          20.149789810180664,
          19.908628463745117,
          19.670024871826172,
          19.43398094177246,
          19.200448989868164,
          18.969409942626953,
          18.740894317626953,
          18.514799118041992,
          18.2911319732666,
          18.06989860534668,
          17.851049423217773,
          17.634552001953125,
          17.420429229736328,
          17.20860481262207,
          16.999086380004883,
          16.791866302490234,
          16.586902618408203,
          16.38416862487793,
          16.183658599853516,
          15.985346794128418,
          15.789201736450195,
          15.595234870910645,
          15.40336799621582,
          15.213643074035645,
          15.02602481842041,
          14.840476036071777,
          14.656972885131836,
          14.47551155090332,
          14.296079635620117,
          14.118635177612305,
          13.94317626953125,
          13.769673347473145,
          13.598105430603027,
          13.428471565246582,
          13.26071834564209,
          13.094887733459473,
          12.930891990661621,
          12.768768310546875,
          12.608479499816895,
          12.449995994567871,
          12.293302536010742,
          12.138410568237305,
          11.985260009765625,
          11.8338623046875,
          11.684199333190918,
          11.536221504211426,
          11.389945030212402,
          11.245368003845215,
          11.102432250976562,
          10.961130142211914,
          10.821464538574219,
          10.68342399597168
         ],
         "yaxis": "y"
        }
       ],
       "layout": {
        "legend": {
         "tracegroupgap": 0
        },
        "template": {
         "data": {
          "bar": [
           {
            "error_x": {
             "color": "#f2f5fa"
            },
            "error_y": {
             "color": "#f2f5fa"
            },
            "marker": {
             "line": {
              "color": "rgb(17,17,17)",
              "width": 0.5
             },
             "pattern": {
              "fillmode": "overlay",
              "size": 10,
              "solidity": 0.2
             }
            },
            "type": "bar"
           }
          ],
          "barpolar": [
           {
            "marker": {
             "line": {
              "color": "rgb(17,17,17)",
              "width": 0.5
             },
             "pattern": {
              "fillmode": "overlay",
              "size": 10,
              "solidity": 0.2
             }
            },
            "type": "barpolar"
           }
          ],
          "carpet": [
           {
            "aaxis": {
             "endlinecolor": "#A2B1C6",
             "gridcolor": "#506784",
             "linecolor": "#506784",
             "minorgridcolor": "#506784",
             "startlinecolor": "#A2B1C6"
            },
            "baxis": {
             "endlinecolor": "#A2B1C6",
             "gridcolor": "#506784",
             "linecolor": "#506784",
             "minorgridcolor": "#506784",
             "startlinecolor": "#A2B1C6"
            },
            "type": "carpet"
           }
          ],
          "choropleth": [
           {
            "colorbar": {
             "outlinewidth": 0,
             "ticks": ""
            },
            "type": "choropleth"
           }
          ],
          "contour": [
           {
            "colorbar": {
             "outlinewidth": 0,
             "ticks": ""
            },
            "colorscale": [
             [
              0,
              "#0d0887"
             ],
             [
              0.1111111111111111,
              "#46039f"
             ],
             [
              0.2222222222222222,
              "#7201a8"
             ],
             [
              0.3333333333333333,
              "#9c179e"
             ],
             [
              0.4444444444444444,
              "#bd3786"
             ],
             [
              0.5555555555555556,
              "#d8576b"
             ],
             [
              0.6666666666666666,
              "#ed7953"
             ],
             [
              0.7777777777777778,
              "#fb9f3a"
             ],
             [
              0.8888888888888888,
              "#fdca26"
             ],
             [
              1,
              "#f0f921"
             ]
            ],
            "type": "contour"
           }
          ],
          "contourcarpet": [
           {
            "colorbar": {
             "outlinewidth": 0,
             "ticks": ""
            },
            "type": "contourcarpet"
           }
          ],
          "heatmap": [
           {
            "colorbar": {
             "outlinewidth": 0,
             "ticks": ""
            },
            "colorscale": [
             [
              0,
              "#0d0887"
             ],
             [
              0.1111111111111111,
              "#46039f"
             ],
             [
              0.2222222222222222,
              "#7201a8"
             ],
             [
              0.3333333333333333,
              "#9c179e"
             ],
             [
              0.4444444444444444,
              "#bd3786"
             ],
             [
              0.5555555555555556,
              "#d8576b"
             ],
             [
              0.6666666666666666,
              "#ed7953"
             ],
             [
              0.7777777777777778,
              "#fb9f3a"
             ],
             [
              0.8888888888888888,
              "#fdca26"
             ],
             [
              1,
              "#f0f921"
             ]
            ],
            "type": "heatmap"
           }
          ],
          "heatmapgl": [
           {
            "colorbar": {
             "outlinewidth": 0,
             "ticks": ""
            },
            "colorscale": [
             [
              0,
              "#0d0887"
             ],
             [
              0.1111111111111111,
              "#46039f"
             ],
             [
              0.2222222222222222,
              "#7201a8"
             ],
             [
              0.3333333333333333,
              "#9c179e"
             ],
             [
              0.4444444444444444,
              "#bd3786"
             ],
             [
              0.5555555555555556,
              "#d8576b"
             ],
             [
              0.6666666666666666,
              "#ed7953"
             ],
             [
              0.7777777777777778,
              "#fb9f3a"
             ],
             [
              0.8888888888888888,
              "#fdca26"
             ],
             [
              1,
              "#f0f921"
             ]
            ],
            "type": "heatmapgl"
           }
          ],
          "histogram": [
           {
            "marker": {
             "pattern": {
              "fillmode": "overlay",
              "size": 10,
              "solidity": 0.2
             }
            },
            "type": "histogram"
           }
          ],
          "histogram2d": [
           {
            "colorbar": {
             "outlinewidth": 0,
             "ticks": ""
            },
            "colorscale": [
             [
              0,
              "#0d0887"
             ],
             [
              0.1111111111111111,
              "#46039f"
             ],
             [
              0.2222222222222222,
              "#7201a8"
             ],
             [
              0.3333333333333333,
              "#9c179e"
             ],
             [
              0.4444444444444444,
              "#bd3786"
             ],
             [
              0.5555555555555556,
              "#d8576b"
             ],
             [
              0.6666666666666666,
              "#ed7953"
             ],
             [
              0.7777777777777778,
              "#fb9f3a"
             ],
             [
              0.8888888888888888,
              "#fdca26"
             ],
             [
              1,
              "#f0f921"
             ]
            ],
            "type": "histogram2d"
           }
          ],
          "histogram2dcontour": [
           {
            "colorbar": {
             "outlinewidth": 0,
             "ticks": ""
            },
            "colorscale": [
             [
              0,
              "#0d0887"
             ],
             [
              0.1111111111111111,
              "#46039f"
             ],
             [
              0.2222222222222222,
              "#7201a8"
             ],
             [
              0.3333333333333333,
              "#9c179e"
             ],
             [
              0.4444444444444444,
              "#bd3786"
             ],
             [
              0.5555555555555556,
              "#d8576b"
             ],
             [
              0.6666666666666666,
              "#ed7953"
             ],
             [
              0.7777777777777778,
              "#fb9f3a"
             ],
             [
              0.8888888888888888,
              "#fdca26"
             ],
             [
              1,
              "#f0f921"
             ]
            ],
            "type": "histogram2dcontour"
           }
          ],
          "mesh3d": [
           {
            "colorbar": {
             "outlinewidth": 0,
             "ticks": ""
            },
            "type": "mesh3d"
           }
          ],
          "parcoords": [
           {
            "line": {
             "colorbar": {
              "outlinewidth": 0,
              "ticks": ""
             }
            },
            "type": "parcoords"
           }
          ],
          "pie": [
           {
            "automargin": true,
            "type": "pie"
           }
          ],
          "scatter": [
           {
            "marker": {
             "line": {
              "color": "#283442"
             }
            },
            "type": "scatter"
           }
          ],
          "scatter3d": [
           {
            "line": {
             "colorbar": {
              "outlinewidth": 0,
              "ticks": ""
             }
            },
            "marker": {
             "colorbar": {
              "outlinewidth": 0,
              "ticks": ""
             }
            },
            "type": "scatter3d"
           }
          ],
          "scattercarpet": [
           {
            "marker": {
             "colorbar": {
              "outlinewidth": 0,
              "ticks": ""
             }
            },
            "type": "scattercarpet"
           }
          ],
          "scattergeo": [
           {
            "marker": {
             "colorbar": {
              "outlinewidth": 0,
              "ticks": ""
             }
            },
            "type": "scattergeo"
           }
          ],
          "scattergl": [
           {
            "marker": {
             "line": {
              "color": "#283442"
             }
            },
            "type": "scattergl"
           }
          ],
          "scattermapbox": [
           {
            "marker": {
             "colorbar": {
              "outlinewidth": 0,
              "ticks": ""
             }
            },
            "type": "scattermapbox"
           }
          ],
          "scatterpolar": [
           {
            "marker": {
             "colorbar": {
              "outlinewidth": 0,
              "ticks": ""
             }
            },
            "type": "scatterpolar"
           }
          ],
          "scatterpolargl": [
           {
            "marker": {
             "colorbar": {
              "outlinewidth": 0,
              "ticks": ""
             }
            },
            "type": "scatterpolargl"
           }
          ],
          "scatterternary": [
           {
            "marker": {
             "colorbar": {
              "outlinewidth": 0,
              "ticks": ""
             }
            },
            "type": "scatterternary"
           }
          ],
          "surface": [
           {
            "colorbar": {
             "outlinewidth": 0,
             "ticks": ""
            },
            "colorscale": [
             [
              0,
              "#0d0887"
             ],
             [
              0.1111111111111111,
              "#46039f"
             ],
             [
              0.2222222222222222,
              "#7201a8"
             ],
             [
              0.3333333333333333,
              "#9c179e"
             ],
             [
              0.4444444444444444,
              "#bd3786"
             ],
             [
              0.5555555555555556,
              "#d8576b"
             ],
             [
              0.6666666666666666,
              "#ed7953"
             ],
             [
              0.7777777777777778,
              "#fb9f3a"
             ],
             [
              0.8888888888888888,
              "#fdca26"
             ],
             [
              1,
              "#f0f921"
             ]
            ],
            "type": "surface"
           }
          ],
          "table": [
           {
            "cells": {
             "fill": {
              "color": "#506784"
             },
             "line": {
              "color": "rgb(17,17,17)"
             }
            },
            "header": {
             "fill": {
              "color": "#2a3f5f"
             },
             "line": {
              "color": "rgb(17,17,17)"
             }
            },
            "type": "table"
           }
          ]
         },
         "layout": {
          "annotationdefaults": {
           "arrowcolor": "#f2f5fa",
           "arrowhead": 0,
           "arrowwidth": 1
          },
          "autotypenumbers": "strict",
          "coloraxis": {
           "colorbar": {
            "outlinewidth": 0,
            "ticks": ""
           }
          },
          "colorscale": {
           "diverging": [
            [
             0,
             "#8e0152"
            ],
            [
             0.1,
             "#c51b7d"
            ],
            [
             0.2,
             "#de77ae"
            ],
            [
             0.3,
             "#f1b6da"
            ],
            [
             0.4,
             "#fde0ef"
            ],
            [
             0.5,
             "#f7f7f7"
            ],
            [
             0.6,
             "#e6f5d0"
            ],
            [
             0.7,
             "#b8e186"
            ],
            [
             0.8,
             "#7fbc41"
            ],
            [
             0.9,
             "#4d9221"
            ],
            [
             1,
             "#276419"
            ]
           ],
           "sequential": [
            [
             0,
             "#0d0887"
            ],
            [
             0.1111111111111111,
             "#46039f"
            ],
            [
             0.2222222222222222,
             "#7201a8"
            ],
            [
             0.3333333333333333,
             "#9c179e"
            ],
            [
             0.4444444444444444,
             "#bd3786"
            ],
            [
             0.5555555555555556,
             "#d8576b"
            ],
            [
             0.6666666666666666,
             "#ed7953"
            ],
            [
             0.7777777777777778,
             "#fb9f3a"
            ],
            [
             0.8888888888888888,
             "#fdca26"
            ],
            [
             1,
             "#f0f921"
            ]
           ],
           "sequentialminus": [
            [
             0,
             "#0d0887"
            ],
            [
             0.1111111111111111,
             "#46039f"
            ],
            [
             0.2222222222222222,
             "#7201a8"
            ],
            [
             0.3333333333333333,
             "#9c179e"
            ],
            [
             0.4444444444444444,
             "#bd3786"
            ],
            [
             0.5555555555555556,
             "#d8576b"
            ],
            [
             0.6666666666666666,
             "#ed7953"
            ],
            [
             0.7777777777777778,
             "#fb9f3a"
            ],
            [
             0.8888888888888888,
             "#fdca26"
            ],
            [
             1,
             "#f0f921"
            ]
           ]
          },
          "colorway": [
           "#636efa",
           "#EF553B",
           "#00cc96",
           "#ab63fa",
           "#FFA15A",
           "#19d3f3",
           "#FF6692",
           "#B6E880",
           "#FF97FF",
           "#FECB52"
          ],
          "font": {
           "color": "#f2f5fa"
          },
          "geo": {
           "bgcolor": "rgb(17,17,17)",
           "lakecolor": "rgb(17,17,17)",
           "landcolor": "rgb(17,17,17)",
           "showlakes": true,
           "showland": true,
           "subunitcolor": "#506784"
          },
          "hoverlabel": {
           "align": "left"
          },
          "hovermode": "closest",
          "mapbox": {
           "style": "dark"
          },
          "paper_bgcolor": "rgb(17,17,17)",
          "plot_bgcolor": "rgb(17,17,17)",
          "polar": {
           "angularaxis": {
            "gridcolor": "#506784",
            "linecolor": "#506784",
            "ticks": ""
           },
           "bgcolor": "rgb(17,17,17)",
           "radialaxis": {
            "gridcolor": "#506784",
            "linecolor": "#506784",
            "ticks": ""
           }
          },
          "scene": {
           "xaxis": {
            "backgroundcolor": "rgb(17,17,17)",
            "gridcolor": "#506784",
            "gridwidth": 2,
            "linecolor": "#506784",
            "showbackground": true,
            "ticks": "",
            "zerolinecolor": "#C8D4E3"
           },
           "yaxis": {
            "backgroundcolor": "rgb(17,17,17)",
            "gridcolor": "#506784",
            "gridwidth": 2,
            "linecolor": "#506784",
            "showbackground": true,
            "ticks": "",
            "zerolinecolor": "#C8D4E3"
           },
           "zaxis": {
            "backgroundcolor": "rgb(17,17,17)",
            "gridcolor": "#506784",
            "gridwidth": 2,
            "linecolor": "#506784",
            "showbackground": true,
            "ticks": "",
            "zerolinecolor": "#C8D4E3"
           }
          },
          "shapedefaults": {
           "line": {
            "color": "#f2f5fa"
           }
          },
          "sliderdefaults": {
           "bgcolor": "#C8D4E3",
           "bordercolor": "rgb(17,17,17)",
           "borderwidth": 1,
           "tickwidth": 0
          },
          "ternary": {
           "aaxis": {
            "gridcolor": "#506784",
            "linecolor": "#506784",
            "ticks": ""
           },
           "baxis": {
            "gridcolor": "#506784",
            "linecolor": "#506784",
            "ticks": ""
           },
           "bgcolor": "rgb(17,17,17)",
           "caxis": {
            "gridcolor": "#506784",
            "linecolor": "#506784",
            "ticks": ""
           }
          },
          "title": {
           "x": 0.05
          },
          "updatemenudefaults": {
           "bgcolor": "#506784",
           "borderwidth": 0
          },
          "xaxis": {
           "automargin": true,
           "gridcolor": "#283442",
           "linecolor": "#506784",
           "ticks": "",
           "title": {
            "standoff": 15
           },
           "zerolinecolor": "#283442",
           "zerolinewidth": 2
          },
          "yaxis": {
           "automargin": true,
           "gridcolor": "#283442",
           "linecolor": "#506784",
           "ticks": "",
           "title": {
            "standoff": 15
           },
           "zerolinecolor": "#283442",
           "zerolinewidth": 2
          }
         }
        },
        "title": {
         "text": "Magnitud de perdida"
        },
        "xaxis": {
         "anchor": "y",
         "domain": [
          0,
          1
         ],
         "title": {
          "text": "# Epoca"
         }
        },
        "yaxis": {
         "anchor": "x",
         "domain": [
          0,
          1
         ],
         "title": {
          "text": "Magnitud de perdida"
         }
        }
       }
      }
     },
     "metadata": {},
     "output_type": "display_data"
    }
   ],
   "source": [
    "# Magnitud de perdida\n",
    "px.line(x=range(500), y=historial.history['loss'], labels={'x':'# Epoca', 'y':'Magnitud de perdida'}, title='Magnitud de perdida', template='plotly_dark')"
   ]
  },
  {
   "cell_type": "code",
   "execution_count": 8,
   "metadata": {},
   "outputs": [
    {
     "name": "stdout",
     "output_type": "stream",
     "text": [
      "Predicciones\n",
      "El resultado es:  [[211.30353]]\n"
     ]
    }
   ],
   "source": [
    "print(\"Predicciones\")\n",
    "resultado = modelo.predict([100.0]) # Prediccion\n",
    "print(\"El resultado es: \", resultado)"
   ]
  },
  {
   "cell_type": "code",
   "execution_count": 9,
   "metadata": {},
   "outputs": [
    {
     "name": "stdout",
     "output_type": "stream",
     "text": [
      "Varibles internas del modelo\n",
      "[array([[1.8251824]], dtype=float32), array([28.785275], dtype=float32)]\n"
     ]
    }
   ],
   "source": [
    "print(\"Varibles internas del modelo\")\n",
    "print(capa.get_weights()) # (Pesos de la capa, sesgo)"
   ]
  },
  {
   "cell_type": "markdown",
   "metadata": {},
   "source": [
    "(Input * Peso) + Sego"
   ]
  }
 ],
 "metadata": {
  "interpreter": {
   "hash": "c630828dd2f5febe1a7dad9b8872a50f04618d3afa782c7704b4b865d873512e"
  },
  "kernelspec": {
   "display_name": "Python 3.10.4 64-bit",
   "language": "python",
   "name": "python3"
  },
  "language_info": {
   "codemirror_mode": {
    "name": "ipython",
    "version": 3
   },
   "file_extension": ".py",
   "mimetype": "text/x-python",
   "name": "python",
   "nbconvert_exporter": "python",
   "pygments_lexer": "ipython3",
   "version": "3.10.6"
  },
  "orig_nbformat": 4
 },
 "nbformat": 4,
 "nbformat_minor": 2
}
