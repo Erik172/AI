{
 "cells": [
  {
   "cell_type": "code",
   "execution_count": 1,
   "metadata": {},
   "outputs": [],
   "source": [
    "import tensorflow as tf\n",
    "import numpy as np"
   ]
  },
  {
   "cell_type": "code",
   "execution_count": 2,
   "metadata": {},
   "outputs": [],
   "source": [
    "# Datos de entrenamiento\n",
    "celcius = np.array([-40, -10,  0,  8, 15, 22,  38],  dtype=float)\n",
    "faranheit = np.array([-40,  14, 32, 46, 59, 72, 100], dtype=float)"
   ]
  },
  {
   "cell_type": "code",
   "execution_count": 26,
   "metadata": {},
   "outputs": [],
   "source": [
    "capa = tf.keras.layers.Dense(units=1, input_shape=[1]) # Capa de entrada\n",
    "modelo = tf.keras.Sequential([capa]) # Modelo de red neuronal"
   ]
  },
  {
   "cell_type": "code",
   "execution_count": 27,
   "metadata": {},
   "outputs": [],
   "source": [
    "modelo.compile(\n",
    "    optimizer=tf.keras.optimizers.Adam(0.1),\n",
    "    loss='mean_squared_error', # Error cuadratico medio\n",
    ")"
   ]
  },
  {
   "cell_type": "code",
   "execution_count": 28,
   "metadata": {},
   "outputs": [
    {
     "name": "stdout",
     "output_type": "stream",
     "text": [
      "Comienza entrenamiento\n",
      "Entrenamiento terminado\n"
     ]
    }
   ],
   "source": [
    "print(\"Comienza entrenamiento\")\n",
    "historial = modelo.fit(celcius, faranheit, epochs=500, verbose=False) # Entrenamiento\n",
    "print(\"Entrenamiento terminado\")"
   ]
  },
  {
   "cell_type": "code",
   "execution_count": 29,
   "metadata": {},
   "outputs": [
    {
     "data": {
      "image/png": "[encoded data removed]",
      "text/plain": [
       "<Figure size 432x288 with 1 Axes>"
      ]
     },
     "metadata": {
      "needs_background": "light"
     },
     "output_type": "display_data"
    }
   ],
   "source": [
    "import matplotlib.pyplot as plt\n",
    "plt.xlabel('# Epoca') # Etiqueta eje x\n",
    "plt.ylabel('Magnitud de perdida') # Etiqueta eje y\n",
    "plt.plot(historial.history['loss']) # Grafica de perdida\n",
    "plt.show()"
   ]
  },
  {
   "cell_type": "code",
   "execution_count": 30,
   "metadata": {},
   "outputs": [
    {
     "name": "stdout",
     "output_type": "stream",
     "text": [
      "Predicciones\n",
      "El resultado es:  [[211.33702]]\n"
     ]
    }
   ],
   "source": [
    "print(\"Predicciones\")\n",
    "resultado = modelo.predict([100.0]) # Prediccion\n",
    "print(\"El resultado es: \", resultado)"
   ]
  },
  {
   "cell_type": "code",
   "execution_count": 31,
   "metadata": {},
   "outputs": [
    {
     "name": "stdout",
     "output_type": "stream",
     "text": [
      "Varibles internas del modelo\n",
      "[array([[1.8206706]], dtype=float32), array([29.269964], dtype=float32)]\n"
     ]
    }
   ],
   "source": [
    "print(\"Varibles internas del modelo\")\n",
    "print(capa.get_weights()) # (Pesos de la capa, sesgo)"
   ]
  },
  {
   "cell_type": "markdown",
   "metadata": {},
   "source": [
    "(Input * Peso) + Sego"
   ]
  },
  {
   "cell_type": "code",
   "execution_count": 32,
   "metadata": {},
   "outputs": [
    {
     "name": "stdout",
     "output_type": "stream",
     "text": [
      "Modelo exportado\n"
     ]
    }
   ],
   "source": [
    "# exportar el modelo a formato h5\n",
    "modelo.save(\"celsius.h5\")\n",
    "print(\"Modelo exportado\")"
   ]
  },
  {
   "cell_type": "code",
   "execution_count": 35,
   "metadata": {},
   "outputs": [],
   "source": [
    "# convertir el modelo a tensorflowjs\n",
    "!tensorflowjs_converter --input_format keras celsius.h5 carpeta_salida"
   ]
  }
 ],
 "metadata": {
  "interpreter": {
   "hash": "c630828dd2f5febe1a7dad9b8872a50f04618d3afa782c7704b4b865d873512e"
  },
  "kernelspec": {
   "display_name": "Python 3.10.4 64-bit",
   "language": "python",
   "name": "python3"
  },
  "language_info": {
   "codemirror_mode": {
    "name": "ipython",
    "version": 3
   },
   "file_extension": ".py",
   "mimetype": "text/x-python",
   "name": "python",
   "nbconvert_exporter": "python",
   "pygments_lexer": "ipython3",
   "version": "3.10.4"
  },
  "orig_nbformat": 4
 },
 "nbformat": 4,
 "nbformat_minor": 2
}
